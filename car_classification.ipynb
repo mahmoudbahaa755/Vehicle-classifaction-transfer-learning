{
  "metadata": {
    "kernelspec": {
      "language": "python",
      "display_name": "Python 3",
      "name": "python3"
    },
    "language_info": {
      "name": "python",
      "version": "3.7.12",
      "mimetype": "text/x-python",
      "codemirror_mode": {
        "name": "ipython",
        "version": 3
      },
      "pygments_lexer": "ipython3",
      "nbconvert_exporter": "python",
      "file_extension": ".py"
    },
    "colab": {
      "provenance": []
    },
    "gpuClass": "standard"
  },
  "nbformat_minor": 0,
  "nbformat": 4,
  "cells": [
    {
      "cell_type": "code",
      "source": [
        "from google.colab import drive\n",
        "drive.mount('/content/drive')"
      ],
      "metadata": {
        "colab": {
          "base_uri": "https://localhost:8080/"
        },
        "id": "kliQBGHZcFd-",
        "outputId": "908ec912-bd7f-4bd7-eddc-77f754eb33a2"
      },
      "execution_count": null,
      "outputs": [
        {
          "output_type": "stream",
          "name": "stdout",
          "text": [
            "Mounted at /content/drive\n"
          ]
        }
      ]
    },
    {
      "cell_type": "code",
      "source": [
        "import os\n",
        "import shutil\n",
        "from PIL import Image\n",
        "import matplotlib.pyplot as plt\n",
        "import numpy as np\n",
        "import tensorflow as tf\n",
        "from tensorflow import keras\n",
        "from tensorflow.keras.preprocessing.image import ImageDataGenerator\n",
        "from sklearn.utils.class_weight import compute_class_weight\n",
        "from tensorflow.keras.applications.vgg16 import VGG16, preprocess_input\n",
        "from tensorflow.keras import regularizers\n",
        "from tensorflow.keras.layers import Dense, Dropout, GlobalAveragePooling2D\n",
        "from tensorflow.keras.callbacks import EarlyStopping\n",
        "from tensorflow.keras.applications import ResNet50\n",
        "from tensorflow.keras import  models"
      ],
      "metadata": {
        "id": "Zi4Nxvq5lRGK",
        "execution": {
          "iopub.status.busy": "2023-02-25T15:06:48.440737Z",
          "iopub.execute_input": "2023-02-25T15:06:48.441137Z",
          "iopub.status.idle": "2023-02-25T15:06:55.291280Z",
          "shell.execute_reply.started": "2023-02-25T15:06:48.441098Z",
          "shell.execute_reply": "2023-02-25T15:06:55.289957Z"
        },
        "trusted": true
      },
      "execution_count": null,
      "outputs": []
    },
    {
      "cell_type": "code",
      "source": [
        "data_dir=\"/content/drive/MyDrive/NewData\"\n",
        "\n",
        "os.listdir(data_path)"
      ],
      "metadata": {
        "id": "ki5mrXG1wa7E",
        "outputId": "078233f4-269b-4d2f-bfd5-804d238296a2",
        "execution": {
          "iopub.status.busy": "2023-02-25T15:06:55.294915Z",
          "iopub.execute_input": "2023-02-25T15:06:55.295881Z",
          "iopub.status.idle": "2023-02-25T15:06:55.325309Z",
          "shell.execute_reply.started": "2023-02-25T15:06:55.295840Z",
          "shell.execute_reply": "2023-02-25T15:06:55.324417Z"
        },
        "trusted": true,
        "colab": {
          "base_uri": "https://localhost:8080/"
        }
      },
      "execution_count": null,
      "outputs": [
        {
          "output_type": "execute_result",
          "data": {
            "text/plain": [
              "['car', 'large_truck', 'truck', 'bus', 'semi_truck', 'microbus', 'Motorcycle']"
            ]
          },
          "metadata": {},
          "execution_count": 5
        }
      ]
    },
    {
      "cell_type": "code",
      "source": [
        "!mkdir train\n",
        "!mkdir test\n",
        "!mkdir val"
      ],
      "metadata": {
        "id": "tclb3-jvTA4k",
        "execution": {
          "iopub.status.busy": "2023-02-25T15:06:58.123332Z",
          "iopub.execute_input": "2023-02-25T15:06:58.124162Z",
          "iopub.status.idle": "2023-02-25T15:07:00.924885Z",
          "shell.execute_reply.started": "2023-02-25T15:06:58.124118Z",
          "shell.execute_reply": "2023-02-25T15:07:00.923615Z"
        },
        "trusted": true,
        "colab": {
          "base_uri": "https://localhost:8080/"
        },
        "outputId": "a21ec120-d0c9-49a3-aa40-9762b03a7bf1"
      },
      "execution_count": null,
      "outputs": [
        {
          "output_type": "stream",
          "name": "stdout",
          "text": [
            "mkdir: cannot create directory ‘train’: File exists\n",
            "mkdir: cannot create directory ‘test’: File exists\n",
            "mkdir: cannot create directory ‘val’: File exists\n"
          ]
        }
      ]
    },
    {
      "cell_type": "code",
      "source": [
        "import random\n",
        "import shutil\n",
        "\n",
        "train_percent = 0.7\n",
        "val_percent = 0.2\n",
        "test_percent = 0.1\n",
        "\n",
        "# Set the paths for the output train, validation, and test directories\n",
        "train_dir = \"/content/train\"\n",
        "val_dir = \"/content/val\"\n",
        "test_dir =\"/content/test\"\n",
        "\n",
        "# Loop through each subfolder in the data directory\n",
        "for subfolder_name in os.listdir(data_dir):\n",
        "    subfolder_path = os.path.join(data_dir, subfolder_name)\n",
        "    \n",
        "    # Ignore any files in the data directory\n",
        "    if not os.path.isdir(subfolder_path):\n",
        "        continue\n",
        "    \n",
        "    # Create the output train, validation, and test subdirectories for this class\n",
        "    train_subfolder = os.path.join(train_dir, subfolder_name)\n",
        "    val_subfolder = os.path.join(val_dir, subfolder_name)\n",
        "    test_subfolder = os.path.join(test_dir, subfolder_name)\n",
        "    os.makedirs(train_subfolder, exist_ok=True)\n",
        "    os.makedirs(val_subfolder, exist_ok=True)\n",
        "    os.makedirs(test_subfolder, exist_ok=True)\n",
        "    \n",
        "    # Get the list of image files in this subfolder\n",
        "    images = os.listdir(subfolder_path)\n",
        "    random.shuffle(images)\n",
        "    \n",
        "    # Split the images into train, validation, and test sets\n",
        "    num_images = len(images)\n",
        "    num_train = int(num_images * train_percent)\n",
        "    num_val = int(num_images * val_percent)\n",
        "    num_test = int(num_images * test_percent)\n",
        "    \n",
        "    train_images = images[:num_train]\n",
        "    val_images = images[num_train:num_train+num_val]\n",
        "    test_images = images[num_train+num_val:]\n",
        "    \n",
        "    # Copy the image files to the appropriate output directories\n",
        "    for image in train_images:\n",
        "        src_path = os.path.join(subfolder_path, image)\n",
        "        dst_path = os.path.join(train_subfolder, image)\n",
        "        shutil.copy(src_path, dst_path)\n",
        "        \n",
        "    for image in val_images:\n",
        "        src_path = os.path.join(subfolder_path, image)\n",
        "        dst_path = os.path.join(val_subfolder, image)\n",
        "        shutil.copy(src_path, dst_path)\n",
        "        \n",
        "    for image in test_images:\n",
        "        src_path = os.path.join(subfolder_path, image)\n",
        "        dst_path = os.path.join(test_subfolder, image)\n",
        "        shutil.copy(src_path, dst_path)\n"
      ],
      "metadata": {
        "id": "CNBEg3I2ccmZ"
      },
      "execution_count": null,
      "outputs": []
    },
    {
      "cell_type": "code",
      "source": [
        "def check_files(data_dir):\n",
        "  for cl in os.listdir(data_dir):\n",
        "    images=len(os.listdir(data_dir+'/'+cl))\n",
        "    print(f\"Number of images in {cl} directory is {images} image.\")"
      ],
      "metadata": {
        "id": "TJBcEOuccnzd"
      },
      "execution_count": null,
      "outputs": []
    },
    {
      "cell_type": "code",
      "source": [
        "check_files(train_dir)"
      ],
      "metadata": {
        "colab": {
          "base_uri": "https://localhost:8080/"
        },
        "id": "2jMdR9rpcooR",
        "outputId": "195422fb-41c3-49be-f2dd-6d2fabfec6fb"
      },
      "execution_count": null,
      "outputs": [
        {
          "output_type": "stream",
          "name": "stdout",
          "text": [
            "Number of images in large_truck directory is 237 image.\n",
            "Number of images in microbus directory is 223 image.\n",
            "Number of images in semi_truck directory is 225 image.\n",
            "Number of images in car directory is 268 image.\n",
            "Number of images in Motorcycle directory is 230 image.\n",
            "Number of images in truck directory is 214 image.\n",
            "Number of images in bus directory is 231 image.\n"
          ]
        }
      ]
    },
    {
      "cell_type": "code",
      "source": [
        "check_files(val_dir)"
      ],
      "metadata": {
        "colab": {
          "base_uri": "https://localhost:8080/"
        },
        "id": "gWow1tmrcsPL",
        "outputId": "ce2d2482-7739-4789-e31c-f8ac39e2d021"
      },
      "execution_count": null,
      "outputs": [
        {
          "output_type": "stream",
          "name": "stdout",
          "text": [
            "Number of images in large_truck directory is 68 image.\n",
            "Number of images in microbus directory is 63 image.\n",
            "Number of images in semi_truck directory is 64 image.\n",
            "Number of images in car directory is 76 image.\n",
            "Number of images in Motorcycle directory is 65 image.\n",
            "Number of images in truck directory is 61 image.\n",
            "Number of images in bus directory is 66 image.\n"
          ]
        }
      ]
    },
    {
      "cell_type": "code",
      "source": [
        "check_files(test_dir)"
      ],
      "metadata": {
        "colab": {
          "base_uri": "https://localhost:8080/"
        },
        "id": "jACYRDC9cuYu",
        "outputId": "34540259-1228-46e5-d4ab-b0279419615e"
      },
      "execution_count": null,
      "outputs": [
        {
          "output_type": "stream",
          "name": "stdout",
          "text": [
            "Number of images in large_truck directory is 35 image.\n",
            "Number of images in microbus directory is 33 image.\n",
            "Number of images in semi_truck directory is 33 image.\n",
            "Number of images in car directory is 39 image.\n",
            "Number of images in Motorcycle directory is 34 image.\n",
            "Number of images in truck directory is 32 image.\n",
            "Number of images in bus directory is 34 image.\n"
          ]
        }
      ]
    },
    {
      "cell_type": "code",
      "source": [
        "def prepare_data_to_model(data_dir: str,shape=(224,224),class_mode='categorical',batch_size=32,shuffle=True):\n",
        "    train_datagen = ImageDataGenerator(\n",
        "    preprocessing_function=preprocess_input)\n",
        "    train_generator = train_datagen.flow_from_directory(\n",
        "    data_dir,\n",
        "    target_size=shape,\n",
        "    batch_size=batch_size,\n",
        "    class_mode=class_mode,\n",
        "    shuffle=shuffle)\n",
        "    return train_generator"
      ],
      "metadata": {
        "execution": {
          "iopub.status.busy": "2023-02-25T15:10:03.201831Z",
          "iopub.execute_input": "2023-02-25T15:10:03.202206Z",
          "iopub.status.idle": "2023-02-25T15:10:03.208262Z",
          "shell.execute_reply.started": "2023-02-25T15:10:03.202174Z",
          "shell.execute_reply": "2023-02-25T15:10:03.207013Z"
        },
        "trusted": true,
        "id": "bcCjz0Q6b9lP"
      },
      "execution_count": null,
      "outputs": []
    },
    {
      "cell_type": "code",
      "source": [
        "# Define data generators for my training and validation data\n",
        "train_dir=\"/content/train\"\n",
        "val_dir=\"/content/val\"\n",
        "batch_size=32\n",
        "# train_datagen = ImageDataGenerator(\n",
        "#     preprocessing_function=preprocess_input)\n",
        "# train_generator = train_datagen.flow_from_directory(\n",
        "#     train_dir,\n",
        "#     target_size=(224, 224),\n",
        "#     batch_size=batch_size,\n",
        "#     class_mode='categorical')\n",
        "train_generator=prepare_data_to_model(train_dir)\n",
        "val_generator=prepare_data_to_model(val_dir)\n",
        "\n",
        "y = train_generator.classes\n",
        "class_weights = compute_class_weight(class_weight = \"balanced\",classes =np.unique(y), y = y)\n",
        "class_weights_dict = dict(zip(range(len(np.unique(y))), class_weights))\n",
        "\n",
        "# val_datagen = ImageDataGenerator(preprocessing_function=preprocess_input)\n",
        "# val_generator = val_datagen.flow_from_directory(\n",
        "#     val_dir,\n",
        "#     target_size=(224, 224),\n",
        "#     batch_size=batch_size,\n",
        "#     class_mode='categorical')"
      ],
      "metadata": {
        "execution": {
          "iopub.status.busy": "2023-02-25T15:10:10.905240Z",
          "iopub.execute_input": "2023-02-25T15:10:10.905629Z",
          "iopub.status.idle": "2023-02-25T15:10:11.159530Z",
          "shell.execute_reply.started": "2023-02-25T15:10:10.905594Z",
          "shell.execute_reply": "2023-02-25T15:10:11.157411Z"
        },
        "trusted": true,
        "colab": {
          "base_uri": "https://localhost:8080/"
        },
        "id": "2pmdd1vsb9lQ",
        "outputId": "635f5ad5-6e3b-4af6-e3a6-ded08d0d5c84"
      },
      "execution_count": null,
      "outputs": [
        {
          "output_type": "stream",
          "name": "stdout",
          "text": [
            "Found 1628 images belonging to 7 classes.\n",
            "Found 463 images belonging to 7 classes.\n"
          ]
        }
      ]
    },
    {
      "cell_type": "code",
      "source": [
        "class_weights_dict"
      ],
      "metadata": {
        "execution": {
          "iopub.status.busy": "2023-02-25T15:11:09.764243Z",
          "iopub.execute_input": "2023-02-25T15:11:09.764654Z",
          "iopub.status.idle": "2023-02-25T15:11:09.773455Z",
          "shell.execute_reply.started": "2023-02-25T15:11:09.764617Z",
          "shell.execute_reply": "2023-02-25T15:11:09.772402Z"
        },
        "trusted": true,
        "colab": {
          "base_uri": "https://localhost:8080/"
        },
        "id": "vyxaCamyb9lQ",
        "outputId": "11885b3c-465f-4851-a4c9-becad8f50c45"
      },
      "execution_count": null,
      "outputs": [
        {
          "output_type": "execute_result",
          "data": {
            "text/plain": [
              "{0: 1.0111801242236025,\n",
              " 1: 1.0068027210884354,\n",
              " 2: 0.8678038379530917,\n",
              " 3: 0.9813140446051839,\n",
              " 4: 1.042921204356182,\n",
              " 5: 1.0336507936507937,\n",
              " 6: 1.0867823765020026}"
            ]
          },
          "metadata": {},
          "execution_count": 24
        }
      ]
    },
    {
      "cell_type": "code",
      "source": [
        "# # Load pre-trained ResNet50 model (with imagenet weights)\n",
        "resnet = ResNet50(weights='imagenet', include_top=False, input_shape=(224, 224, 3))\n",
        "\n",
        "# #ADD regualization and dropout\n",
        "for layer in resnet.layers:\n",
        "    if isinstance(layer, tf.keras.layers.Dense):\n",
        "        layer.kernel_regularizer = regularizers.l2(0.01)\n",
        "        layer.dropout = Dropout(0.5)\n",
        "\n",
        "# # Freeze all layers in the ResNet50 model\n",
        "for layer in resnet.layers:\n",
        "    layer.trainable = False\n",
        "\n",
        "# # Define new output layers \n",
        "x = resnet.output\n",
        "x = GlobalAveragePooling2D()(x)\n",
        "x = Dense(1024, activation='relu', kernel_regularizer=regularizers.l2(0.01))(x)\n",
        "x = Dropout(0.5)(x)\n",
        "x = Dense(512, activation='relu', kernel_regularizer=regularizers.l2(0.01))(x)\n",
        "x = Dropout(0.5)(x)\n",
        "output = Dense(7, activation='softmax')(x)\n",
        "\n",
        "# # Create a new model that includes the pre-trained ResNet50 layers and your own output layers\n",
        "model = models.Model(inputs=resnet.input, outputs=output)\n",
        "\n",
        "model.summary()"
      ],
      "metadata": {
        "trusted": true,
        "colab": {
          "base_uri": "https://localhost:8080/"
        },
        "id": "j_J_EvLbb9lQ",
        "outputId": "73dcd865-a16d-4064-d487-e74dba5aee37"
      },
      "execution_count": null,
      "outputs": [
        {
          "output_type": "stream",
          "name": "stdout",
          "text": [
            "Model: \"model_3\"\n",
            "__________________________________________________________________________________________________\n",
            " Layer (type)                   Output Shape         Param #     Connected to                     \n",
            "==================================================================================================\n",
            " input_4 (InputLayer)           [(None, 224, 224, 3  0           []                               \n",
            "                                )]                                                                \n",
            "                                                                                                  \n",
            " conv1_pad (ZeroPadding2D)      (None, 230, 230, 3)  0           ['input_4[0][0]']                \n",
            "                                                                                                  \n",
            " conv1_conv (Conv2D)            (None, 112, 112, 64  9472        ['conv1_pad[0][0]']              \n",
            "                                )                                                                 \n",
            "                                                                                                  \n",
            " conv1_bn (BatchNormalization)  (None, 112, 112, 64  256         ['conv1_conv[0][0]']             \n",
            "                                )                                                                 \n",
            "                                                                                                  \n",
            " conv1_relu (Activation)        (None, 112, 112, 64  0           ['conv1_bn[0][0]']               \n",
            "                                )                                                                 \n",
            "                                                                                                  \n",
            " pool1_pad (ZeroPadding2D)      (None, 114, 114, 64  0           ['conv1_relu[0][0]']             \n",
            "                                )                                                                 \n",
            "                                                                                                  \n",
            " pool1_pool (MaxPooling2D)      (None, 56, 56, 64)   0           ['pool1_pad[0][0]']              \n",
            "                                                                                                  \n",
            " conv2_block1_1_conv (Conv2D)   (None, 56, 56, 64)   4160        ['pool1_pool[0][0]']             \n",
            "                                                                                                  \n",
            " conv2_block1_1_bn (BatchNormal  (None, 56, 56, 64)  256         ['conv2_block1_1_conv[0][0]']    \n",
            " ization)                                                                                         \n",
            "                                                                                                  \n",
            " conv2_block1_1_relu (Activatio  (None, 56, 56, 64)  0           ['conv2_block1_1_bn[0][0]']      \n",
            " n)                                                                                               \n",
            "                                                                                                  \n",
            " conv2_block1_2_conv (Conv2D)   (None, 56, 56, 64)   36928       ['conv2_block1_1_relu[0][0]']    \n",
            "                                                                                                  \n",
            " conv2_block1_2_bn (BatchNormal  (None, 56, 56, 64)  256         ['conv2_block1_2_conv[0][0]']    \n",
            " ization)                                                                                         \n",
            "                                                                                                  \n",
            " conv2_block1_2_relu (Activatio  (None, 56, 56, 64)  0           ['conv2_block1_2_bn[0][0]']      \n",
            " n)                                                                                               \n",
            "                                                                                                  \n",
            " conv2_block1_0_conv (Conv2D)   (None, 56, 56, 256)  16640       ['pool1_pool[0][0]']             \n",
            "                                                                                                  \n",
            " conv2_block1_3_conv (Conv2D)   (None, 56, 56, 256)  16640       ['conv2_block1_2_relu[0][0]']    \n",
            "                                                                                                  \n",
            " conv2_block1_0_bn (BatchNormal  (None, 56, 56, 256)  1024       ['conv2_block1_0_conv[0][0]']    \n",
            " ization)                                                                                         \n",
            "                                                                                                  \n",
            " conv2_block1_3_bn (BatchNormal  (None, 56, 56, 256)  1024       ['conv2_block1_3_conv[0][0]']    \n",
            " ization)                                                                                         \n",
            "                                                                                                  \n",
            " conv2_block1_add (Add)         (None, 56, 56, 256)  0           ['conv2_block1_0_bn[0][0]',      \n",
            "                                                                  'conv2_block1_3_bn[0][0]']      \n",
            "                                                                                                  \n",
            " conv2_block1_out (Activation)  (None, 56, 56, 256)  0           ['conv2_block1_add[0][0]']       \n",
            "                                                                                                  \n",
            " conv2_block2_1_conv (Conv2D)   (None, 56, 56, 64)   16448       ['conv2_block1_out[0][0]']       \n",
            "                                                                                                  \n",
            " conv2_block2_1_bn (BatchNormal  (None, 56, 56, 64)  256         ['conv2_block2_1_conv[0][0]']    \n",
            " ization)                                                                                         \n",
            "                                                                                                  \n",
            " conv2_block2_1_relu (Activatio  (None, 56, 56, 64)  0           ['conv2_block2_1_bn[0][0]']      \n",
            " n)                                                                                               \n",
            "                                                                                                  \n",
            " conv2_block2_2_conv (Conv2D)   (None, 56, 56, 64)   36928       ['conv2_block2_1_relu[0][0]']    \n",
            "                                                                                                  \n",
            " conv2_block2_2_bn (BatchNormal  (None, 56, 56, 64)  256         ['conv2_block2_2_conv[0][0]']    \n",
            " ization)                                                                                         \n",
            "                                                                                                  \n",
            " conv2_block2_2_relu (Activatio  (None, 56, 56, 64)  0           ['conv2_block2_2_bn[0][0]']      \n",
            " n)                                                                                               \n",
            "                                                                                                  \n",
            " conv2_block2_3_conv (Conv2D)   (None, 56, 56, 256)  16640       ['conv2_block2_2_relu[0][0]']    \n",
            "                                                                                                  \n",
            " conv2_block2_3_bn (BatchNormal  (None, 56, 56, 256)  1024       ['conv2_block2_3_conv[0][0]']    \n",
            " ization)                                                                                         \n",
            "                                                                                                  \n",
            " conv2_block2_add (Add)         (None, 56, 56, 256)  0           ['conv2_block1_out[0][0]',       \n",
            "                                                                  'conv2_block2_3_bn[0][0]']      \n",
            "                                                                                                  \n",
            " conv2_block2_out (Activation)  (None, 56, 56, 256)  0           ['conv2_block2_add[0][0]']       \n",
            "                                                                                                  \n",
            " conv2_block3_1_conv (Conv2D)   (None, 56, 56, 64)   16448       ['conv2_block2_out[0][0]']       \n",
            "                                                                                                  \n",
            " conv2_block3_1_bn (BatchNormal  (None, 56, 56, 64)  256         ['conv2_block3_1_conv[0][0]']    \n",
            " ization)                                                                                         \n",
            "                                                                                                  \n",
            " conv2_block3_1_relu (Activatio  (None, 56, 56, 64)  0           ['conv2_block3_1_bn[0][0]']      \n",
            " n)                                                                                               \n",
            "                                                                                                  \n",
            " conv2_block3_2_conv (Conv2D)   (None, 56, 56, 64)   36928       ['conv2_block3_1_relu[0][0]']    \n",
            "                                                                                                  \n",
            " conv2_block3_2_bn (BatchNormal  (None, 56, 56, 64)  256         ['conv2_block3_2_conv[0][0]']    \n",
            " ization)                                                                                         \n",
            "                                                                                                  \n",
            " conv2_block3_2_relu (Activatio  (None, 56, 56, 64)  0           ['conv2_block3_2_bn[0][0]']      \n",
            " n)                                                                                               \n",
            "                                                                                                  \n",
            " conv2_block3_3_conv (Conv2D)   (None, 56, 56, 256)  16640       ['conv2_block3_2_relu[0][0]']    \n",
            "                                                                                                  \n",
            " conv2_block3_3_bn (BatchNormal  (None, 56, 56, 256)  1024       ['conv2_block3_3_conv[0][0]']    \n",
            " ization)                                                                                         \n",
            "                                                                                                  \n",
            " conv2_block3_add (Add)         (None, 56, 56, 256)  0           ['conv2_block2_out[0][0]',       \n",
            "                                                                  'conv2_block3_3_bn[0][0]']      \n",
            "                                                                                                  \n",
            " conv2_block3_out (Activation)  (None, 56, 56, 256)  0           ['conv2_block3_add[0][0]']       \n",
            "                                                                                                  \n",
            " conv3_block1_1_conv (Conv2D)   (None, 28, 28, 128)  32896       ['conv2_block3_out[0][0]']       \n",
            "                                                                                                  \n",
            " conv3_block1_1_bn (BatchNormal  (None, 28, 28, 128)  512        ['conv3_block1_1_conv[0][0]']    \n",
            " ization)                                                                                         \n",
            "                                                                                                  \n",
            " conv3_block1_1_relu (Activatio  (None, 28, 28, 128)  0          ['conv3_block1_1_bn[0][0]']      \n",
            " n)                                                                                               \n",
            "                                                                                                  \n",
            " conv3_block1_2_conv (Conv2D)   (None, 28, 28, 128)  147584      ['conv3_block1_1_relu[0][0]']    \n",
            "                                                                                                  \n",
            " conv3_block1_2_bn (BatchNormal  (None, 28, 28, 128)  512        ['conv3_block1_2_conv[0][0]']    \n",
            " ization)                                                                                         \n",
            "                                                                                                  \n",
            " conv3_block1_2_relu (Activatio  (None, 28, 28, 128)  0          ['conv3_block1_2_bn[0][0]']      \n",
            " n)                                                                                               \n",
            "                                                                                                  \n",
            " conv3_block1_0_conv (Conv2D)   (None, 28, 28, 512)  131584      ['conv2_block3_out[0][0]']       \n",
            "                                                                                                  \n",
            " conv3_block1_3_conv (Conv2D)   (None, 28, 28, 512)  66048       ['conv3_block1_2_relu[0][0]']    \n",
            "                                                                                                  \n",
            " conv3_block1_0_bn (BatchNormal  (None, 28, 28, 512)  2048       ['conv3_block1_0_conv[0][0]']    \n",
            " ization)                                                                                         \n",
            "                                                                                                  \n",
            " conv3_block1_3_bn (BatchNormal  (None, 28, 28, 512)  2048       ['conv3_block1_3_conv[0][0]']    \n",
            " ization)                                                                                         \n",
            "                                                                                                  \n",
            " conv3_block1_add (Add)         (None, 28, 28, 512)  0           ['conv3_block1_0_bn[0][0]',      \n",
            "                                                                  'conv3_block1_3_bn[0][0]']      \n",
            "                                                                                                  \n",
            " conv3_block1_out (Activation)  (None, 28, 28, 512)  0           ['conv3_block1_add[0][0]']       \n",
            "                                                                                                  \n",
            " conv3_block2_1_conv (Conv2D)   (None, 28, 28, 128)  65664       ['conv3_block1_out[0][0]']       \n",
            "                                                                                                  \n",
            " conv3_block2_1_bn (BatchNormal  (None, 28, 28, 128)  512        ['conv3_block2_1_conv[0][0]']    \n",
            " ization)                                                                                         \n",
            "                                                                                                  \n",
            " conv3_block2_1_relu (Activatio  (None, 28, 28, 128)  0          ['conv3_block2_1_bn[0][0]']      \n",
            " n)                                                                                               \n",
            "                                                                                                  \n",
            " conv3_block2_2_conv (Conv2D)   (None, 28, 28, 128)  147584      ['conv3_block2_1_relu[0][0]']    \n",
            "                                                                                                  \n",
            " conv3_block2_2_bn (BatchNormal  (None, 28, 28, 128)  512        ['conv3_block2_2_conv[0][0]']    \n",
            " ization)                                                                                         \n",
            "                                                                                                  \n",
            " conv3_block2_2_relu (Activatio  (None, 28, 28, 128)  0          ['conv3_block2_2_bn[0][0]']      \n",
            " n)                                                                                               \n",
            "                                                                                                  \n",
            " conv3_block2_3_conv (Conv2D)   (None, 28, 28, 512)  66048       ['conv3_block2_2_relu[0][0]']    \n",
            "                                                                                                  \n",
            " conv3_block2_3_bn (BatchNormal  (None, 28, 28, 512)  2048       ['conv3_block2_3_conv[0][0]']    \n",
            " ization)                                                                                         \n",
            "                                                                                                  \n",
            " conv3_block2_add (Add)         (None, 28, 28, 512)  0           ['conv3_block1_out[0][0]',       \n",
            "                                                                  'conv3_block2_3_bn[0][0]']      \n",
            "                                                                                                  \n",
            " conv3_block2_out (Activation)  (None, 28, 28, 512)  0           ['conv3_block2_add[0][0]']       \n",
            "                                                                                                  \n",
            " conv3_block3_1_conv (Conv2D)   (None, 28, 28, 128)  65664       ['conv3_block2_out[0][0]']       \n",
            "                                                                                                  \n",
            " conv3_block3_1_bn (BatchNormal  (None, 28, 28, 128)  512        ['conv3_block3_1_conv[0][0]']    \n",
            " ization)                                                                                         \n",
            "                                                                                                  \n",
            " conv3_block3_1_relu (Activatio  (None, 28, 28, 128)  0          ['conv3_block3_1_bn[0][0]']      \n",
            " n)                                                                                               \n",
            "                                                                                                  \n",
            " conv3_block3_2_conv (Conv2D)   (None, 28, 28, 128)  147584      ['conv3_block3_1_relu[0][0]']    \n",
            "                                                                                                  \n",
            " conv3_block3_2_bn (BatchNormal  (None, 28, 28, 128)  512        ['conv3_block3_2_conv[0][0]']    \n",
            " ization)                                                                                         \n",
            "                                                                                                  \n",
            " conv3_block3_2_relu (Activatio  (None, 28, 28, 128)  0          ['conv3_block3_2_bn[0][0]']      \n",
            " n)                                                                                               \n",
            "                                                                                                  \n",
            " conv3_block3_3_conv (Conv2D)   (None, 28, 28, 512)  66048       ['conv3_block3_2_relu[0][0]']    \n",
            "                                                                                                  \n",
            " conv3_block3_3_bn (BatchNormal  (None, 28, 28, 512)  2048       ['conv3_block3_3_conv[0][0]']    \n",
            " ization)                                                                                         \n",
            "                                                                                                  \n",
            " conv3_block3_add (Add)         (None, 28, 28, 512)  0           ['conv3_block2_out[0][0]',       \n",
            "                                                                  'conv3_block3_3_bn[0][0]']      \n",
            "                                                                                                  \n",
            " conv3_block3_out (Activation)  (None, 28, 28, 512)  0           ['conv3_block3_add[0][0]']       \n",
            "                                                                                                  \n",
            " conv3_block4_1_conv (Conv2D)   (None, 28, 28, 128)  65664       ['conv3_block3_out[0][0]']       \n",
            "                                                                                                  \n",
            " conv3_block4_1_bn (BatchNormal  (None, 28, 28, 128)  512        ['conv3_block4_1_conv[0][0]']    \n",
            " ization)                                                                                         \n",
            "                                                                                                  \n",
            " conv3_block4_1_relu (Activatio  (None, 28, 28, 128)  0          ['conv3_block4_1_bn[0][0]']      \n",
            " n)                                                                                               \n",
            "                                                                                                  \n",
            " conv3_block4_2_conv (Conv2D)   (None, 28, 28, 128)  147584      ['conv3_block4_1_relu[0][0]']    \n",
            "                                                                                                  \n",
            " conv3_block4_2_bn (BatchNormal  (None, 28, 28, 128)  512        ['conv3_block4_2_conv[0][0]']    \n",
            " ization)                                                                                         \n",
            "                                                                                                  \n",
            " conv3_block4_2_relu (Activatio  (None, 28, 28, 128)  0          ['conv3_block4_2_bn[0][0]']      \n",
            " n)                                                                                               \n",
            "                                                                                                  \n",
            " conv3_block4_3_conv (Conv2D)   (None, 28, 28, 512)  66048       ['conv3_block4_2_relu[0][0]']    \n",
            "                                                                                                  \n",
            " conv3_block4_3_bn (BatchNormal  (None, 28, 28, 512)  2048       ['conv3_block4_3_conv[0][0]']    \n",
            " ization)                                                                                         \n",
            "                                                                                                  \n",
            " conv3_block4_add (Add)         (None, 28, 28, 512)  0           ['conv3_block3_out[0][0]',       \n",
            "                                                                  'conv3_block4_3_bn[0][0]']      \n",
            "                                                                                                  \n",
            " conv3_block4_out (Activation)  (None, 28, 28, 512)  0           ['conv3_block4_add[0][0]']       \n",
            "                                                                                                  \n",
            " conv4_block1_1_conv (Conv2D)   (None, 14, 14, 256)  131328      ['conv3_block4_out[0][0]']       \n",
            "                                                                                                  \n",
            " conv4_block1_1_bn (BatchNormal  (None, 14, 14, 256)  1024       ['conv4_block1_1_conv[0][0]']    \n",
            " ization)                                                                                         \n",
            "                                                                                                  \n",
            " conv4_block1_1_relu (Activatio  (None, 14, 14, 256)  0          ['conv4_block1_1_bn[0][0]']      \n",
            " n)                                                                                               \n",
            "                                                                                                  \n",
            " conv4_block1_2_conv (Conv2D)   (None, 14, 14, 256)  590080      ['conv4_block1_1_relu[0][0]']    \n",
            "                                                                                                  \n",
            " conv4_block1_2_bn (BatchNormal  (None, 14, 14, 256)  1024       ['conv4_block1_2_conv[0][0]']    \n",
            " ization)                                                                                         \n",
            "                                                                                                  \n",
            " conv4_block1_2_relu (Activatio  (None, 14, 14, 256)  0          ['conv4_block1_2_bn[0][0]']      \n",
            " n)                                                                                               \n",
            "                                                                                                  \n",
            " conv4_block1_0_conv (Conv2D)   (None, 14, 14, 1024  525312      ['conv3_block4_out[0][0]']       \n",
            "                                )                                                                 \n",
            "                                                                                                  \n",
            " conv4_block1_3_conv (Conv2D)   (None, 14, 14, 1024  263168      ['conv4_block1_2_relu[0][0]']    \n",
            "                                )                                                                 \n",
            "                                                                                                  \n",
            " conv4_block1_0_bn (BatchNormal  (None, 14, 14, 1024  4096       ['conv4_block1_0_conv[0][0]']    \n",
            " ization)                       )                                                                 \n",
            "                                                                                                  \n",
            " conv4_block1_3_bn (BatchNormal  (None, 14, 14, 1024  4096       ['conv4_block1_3_conv[0][0]']    \n",
            " ization)                       )                                                                 \n",
            "                                                                                                  \n",
            " conv4_block1_add (Add)         (None, 14, 14, 1024  0           ['conv4_block1_0_bn[0][0]',      \n",
            "                                )                                 'conv4_block1_3_bn[0][0]']      \n",
            "                                                                                                  \n",
            " conv4_block1_out (Activation)  (None, 14, 14, 1024  0           ['conv4_block1_add[0][0]']       \n",
            "                                )                                                                 \n",
            "                                                                                                  \n",
            " conv4_block2_1_conv (Conv2D)   (None, 14, 14, 256)  262400      ['conv4_block1_out[0][0]']       \n",
            "                                                                                                  \n",
            " conv4_block2_1_bn (BatchNormal  (None, 14, 14, 256)  1024       ['conv4_block2_1_conv[0][0]']    \n",
            " ization)                                                                                         \n",
            "                                                                                                  \n",
            " conv4_block2_1_relu (Activatio  (None, 14, 14, 256)  0          ['conv4_block2_1_bn[0][0]']      \n",
            " n)                                                                                               \n",
            "                                                                                                  \n",
            " conv4_block2_2_conv (Conv2D)   (None, 14, 14, 256)  590080      ['conv4_block2_1_relu[0][0]']    \n",
            "                                                                                                  \n",
            " conv4_block2_2_bn (BatchNormal  (None, 14, 14, 256)  1024       ['conv4_block2_2_conv[0][0]']    \n",
            " ization)                                                                                         \n",
            "                                                                                                  \n",
            " conv4_block2_2_relu (Activatio  (None, 14, 14, 256)  0          ['conv4_block2_2_bn[0][0]']      \n",
            " n)                                                                                               \n",
            "                                                                                                  \n",
            " conv4_block2_3_conv (Conv2D)   (None, 14, 14, 1024  263168      ['conv4_block2_2_relu[0][0]']    \n",
            "                                )                                                                 \n",
            "                                                                                                  \n",
            " conv4_block2_3_bn (BatchNormal  (None, 14, 14, 1024  4096       ['conv4_block2_3_conv[0][0]']    \n",
            " ization)                       )                                                                 \n",
            "                                                                                                  \n",
            " conv4_block2_add (Add)         (None, 14, 14, 1024  0           ['conv4_block1_out[0][0]',       \n",
            "                                )                                 'conv4_block2_3_bn[0][0]']      \n",
            "                                                                                                  \n",
            " conv4_block2_out (Activation)  (None, 14, 14, 1024  0           ['conv4_block2_add[0][0]']       \n",
            "                                )                                                                 \n",
            "                                                                                                  \n",
            " conv4_block3_1_conv (Conv2D)   (None, 14, 14, 256)  262400      ['conv4_block2_out[0][0]']       \n",
            "                                                                                                  \n",
            " conv4_block3_1_bn (BatchNormal  (None, 14, 14, 256)  1024       ['conv4_block3_1_conv[0][0]']    \n",
            " ization)                                                                                         \n",
            "                                                                                                  \n",
            " conv4_block3_1_relu (Activatio  (None, 14, 14, 256)  0          ['conv4_block3_1_bn[0][0]']      \n",
            " n)                                                                                               \n",
            "                                                                                                  \n",
            " conv4_block3_2_conv (Conv2D)   (None, 14, 14, 256)  590080      ['conv4_block3_1_relu[0][0]']    \n",
            "                                                                                                  \n",
            " conv4_block3_2_bn (BatchNormal  (None, 14, 14, 256)  1024       ['conv4_block3_2_conv[0][0]']    \n",
            " ization)                                                                                         \n",
            "                                                                                                  \n",
            " conv4_block3_2_relu (Activatio  (None, 14, 14, 256)  0          ['conv4_block3_2_bn[0][0]']      \n",
            " n)                                                                                               \n",
            "                                                                                                  \n",
            " conv4_block3_3_conv (Conv2D)   (None, 14, 14, 1024  263168      ['conv4_block3_2_relu[0][0]']    \n",
            "                                )                                                                 \n",
            "                                                                                                  \n",
            " conv4_block3_3_bn (BatchNormal  (None, 14, 14, 1024  4096       ['conv4_block3_3_conv[0][0]']    \n",
            " ization)                       )                                                                 \n",
            "                                                                                                  \n",
            " conv4_block3_add (Add)         (None, 14, 14, 1024  0           ['conv4_block2_out[0][0]',       \n",
            "                                )                                 'conv4_block3_3_bn[0][0]']      \n",
            "                                                                                                  \n",
            " conv4_block3_out (Activation)  (None, 14, 14, 1024  0           ['conv4_block3_add[0][0]']       \n",
            "                                )                                                                 \n",
            "                                                                                                  \n",
            " conv4_block4_1_conv (Conv2D)   (None, 14, 14, 256)  262400      ['conv4_block3_out[0][0]']       \n",
            "                                                                                                  \n",
            " conv4_block4_1_bn (BatchNormal  (None, 14, 14, 256)  1024       ['conv4_block4_1_conv[0][0]']    \n",
            " ization)                                                                                         \n",
            "                                                                                                  \n",
            " conv4_block4_1_relu (Activatio  (None, 14, 14, 256)  0          ['conv4_block4_1_bn[0][0]']      \n",
            " n)                                                                                               \n",
            "                                                                                                  \n",
            " conv4_block4_2_conv (Conv2D)   (None, 14, 14, 256)  590080      ['conv4_block4_1_relu[0][0]']    \n",
            "                                                                                                  \n",
            " conv4_block4_2_bn (BatchNormal  (None, 14, 14, 256)  1024       ['conv4_block4_2_conv[0][0]']    \n",
            " ization)                                                                                         \n",
            "                                                                                                  \n",
            " conv4_block4_2_relu (Activatio  (None, 14, 14, 256)  0          ['conv4_block4_2_bn[0][0]']      \n",
            " n)                                                                                               \n",
            "                                                                                                  \n",
            " conv4_block4_3_conv (Conv2D)   (None, 14, 14, 1024  263168      ['conv4_block4_2_relu[0][0]']    \n",
            "                                )                                                                 \n",
            "                                                                                                  \n",
            " conv4_block4_3_bn (BatchNormal  (None, 14, 14, 1024  4096       ['conv4_block4_3_conv[0][0]']    \n",
            " ization)                       )                                                                 \n",
            "                                                                                                  \n",
            " conv4_block4_add (Add)         (None, 14, 14, 1024  0           ['conv4_block3_out[0][0]',       \n",
            "                                )                                 'conv4_block4_3_bn[0][0]']      \n",
            "                                                                                                  \n",
            " conv4_block4_out (Activation)  (None, 14, 14, 1024  0           ['conv4_block4_add[0][0]']       \n",
            "                                )                                                                 \n",
            "                                                                                                  \n",
            " conv4_block5_1_conv (Conv2D)   (None, 14, 14, 256)  262400      ['conv4_block4_out[0][0]']       \n",
            "                                                                                                  \n",
            " conv4_block5_1_bn (BatchNormal  (None, 14, 14, 256)  1024       ['conv4_block5_1_conv[0][0]']    \n",
            " ization)                                                                                         \n",
            "                                                                                                  \n",
            " conv4_block5_1_relu (Activatio  (None, 14, 14, 256)  0          ['conv4_block5_1_bn[0][0]']      \n",
            " n)                                                                                               \n",
            "                                                                                                  \n",
            " conv4_block5_2_conv (Conv2D)   (None, 14, 14, 256)  590080      ['conv4_block5_1_relu[0][0]']    \n",
            "                                                                                                  \n",
            " conv4_block5_2_bn (BatchNormal  (None, 14, 14, 256)  1024       ['conv4_block5_2_conv[0][0]']    \n",
            " ization)                                                                                         \n",
            "                                                                                                  \n",
            " conv4_block5_2_relu (Activatio  (None, 14, 14, 256)  0          ['conv4_block5_2_bn[0][0]']      \n",
            " n)                                                                                               \n",
            "                                                                                                  \n",
            " conv4_block5_3_conv (Conv2D)   (None, 14, 14, 1024  263168      ['conv4_block5_2_relu[0][0]']    \n",
            "                                )                                                                 \n",
            "                                                                                                  \n",
            " conv4_block5_3_bn (BatchNormal  (None, 14, 14, 1024  4096       ['conv4_block5_3_conv[0][0]']    \n",
            " ization)                       )                                                                 \n",
            "                                                                                                  \n",
            " conv4_block5_add (Add)         (None, 14, 14, 1024  0           ['conv4_block4_out[0][0]',       \n",
            "                                )                                 'conv4_block5_3_bn[0][0]']      \n",
            "                                                                                                  \n",
            " conv4_block5_out (Activation)  (None, 14, 14, 1024  0           ['conv4_block5_add[0][0]']       \n",
            "                                )                                                                 \n",
            "                                                                                                  \n",
            " conv4_block6_1_conv (Conv2D)   (None, 14, 14, 256)  262400      ['conv4_block5_out[0][0]']       \n",
            "                                                                                                  \n",
            " conv4_block6_1_bn (BatchNormal  (None, 14, 14, 256)  1024       ['conv4_block6_1_conv[0][0]']    \n",
            " ization)                                                                                         \n",
            "                                                                                                  \n",
            " conv4_block6_1_relu (Activatio  (None, 14, 14, 256)  0          ['conv4_block6_1_bn[0][0]']      \n",
            " n)                                                                                               \n",
            "                                                                                                  \n",
            " conv4_block6_2_conv (Conv2D)   (None, 14, 14, 256)  590080      ['conv4_block6_1_relu[0][0]']    \n",
            "                                                                                                  \n",
            " conv4_block6_2_bn (BatchNormal  (None, 14, 14, 256)  1024       ['conv4_block6_2_conv[0][0]']    \n",
            " ization)                                                                                         \n",
            "                                                                                                  \n",
            " conv4_block6_2_relu (Activatio  (None, 14, 14, 256)  0          ['conv4_block6_2_bn[0][0]']      \n",
            " n)                                                                                               \n",
            "                                                                                                  \n",
            " conv4_block6_3_conv (Conv2D)   (None, 14, 14, 1024  263168      ['conv4_block6_2_relu[0][0]']    \n",
            "                                )                                                                 \n",
            "                                                                                                  \n",
            " conv4_block6_3_bn (BatchNormal  (None, 14, 14, 1024  4096       ['conv4_block6_3_conv[0][0]']    \n",
            " ization)                       )                                                                 \n",
            "                                                                                                  \n",
            " conv4_block6_add (Add)         (None, 14, 14, 1024  0           ['conv4_block5_out[0][0]',       \n",
            "                                )                                 'conv4_block6_3_bn[0][0]']      \n",
            "                                                                                                  \n",
            " conv4_block6_out (Activation)  (None, 14, 14, 1024  0           ['conv4_block6_add[0][0]']       \n",
            "                                )                                                                 \n",
            "                                                                                                  \n",
            " conv5_block1_1_conv (Conv2D)   (None, 7, 7, 512)    524800      ['conv4_block6_out[0][0]']       \n",
            "                                                                                                  \n",
            " conv5_block1_1_bn (BatchNormal  (None, 7, 7, 512)   2048        ['conv5_block1_1_conv[0][0]']    \n",
            " ization)                                                                                         \n",
            "                                                                                                  \n",
            " conv5_block1_1_relu (Activatio  (None, 7, 7, 512)   0           ['conv5_block1_1_bn[0][0]']      \n",
            " n)                                                                                               \n",
            "                                                                                                  \n",
            " conv5_block1_2_conv (Conv2D)   (None, 7, 7, 512)    2359808     ['conv5_block1_1_relu[0][0]']    \n",
            "                                                                                                  \n",
            " conv5_block1_2_bn (BatchNormal  (None, 7, 7, 512)   2048        ['conv5_block1_2_conv[0][0]']    \n",
            " ization)                                                                                         \n",
            "                                                                                                  \n",
            " conv5_block1_2_relu (Activatio  (None, 7, 7, 512)   0           ['conv5_block1_2_bn[0][0]']      \n",
            " n)                                                                                               \n",
            "                                                                                                  \n",
            " conv5_block1_0_conv (Conv2D)   (None, 7, 7, 2048)   2099200     ['conv4_block6_out[0][0]']       \n",
            "                                                                                                  \n",
            " conv5_block1_3_conv (Conv2D)   (None, 7, 7, 2048)   1050624     ['conv5_block1_2_relu[0][0]']    \n",
            "                                                                                                  \n",
            " conv5_block1_0_bn (BatchNormal  (None, 7, 7, 2048)  8192        ['conv5_block1_0_conv[0][0]']    \n",
            " ization)                                                                                         \n",
            "                                                                                                  \n",
            " conv5_block1_3_bn (BatchNormal  (None, 7, 7, 2048)  8192        ['conv5_block1_3_conv[0][0]']    \n",
            " ization)                                                                                         \n",
            "                                                                                                  \n",
            " conv5_block1_add (Add)         (None, 7, 7, 2048)   0           ['conv5_block1_0_bn[0][0]',      \n",
            "                                                                  'conv5_block1_3_bn[0][0]']      \n",
            "                                                                                                  \n",
            " conv5_block1_out (Activation)  (None, 7, 7, 2048)   0           ['conv5_block1_add[0][0]']       \n",
            "                                                                                                  \n",
            " conv5_block2_1_conv (Conv2D)   (None, 7, 7, 512)    1049088     ['conv5_block1_out[0][0]']       \n",
            "                                                                                                  \n",
            " conv5_block2_1_bn (BatchNormal  (None, 7, 7, 512)   2048        ['conv5_block2_1_conv[0][0]']    \n",
            " ization)                                                                                         \n",
            "                                                                                                  \n",
            " conv5_block2_1_relu (Activatio  (None, 7, 7, 512)   0           ['conv5_block2_1_bn[0][0]']      \n",
            " n)                                                                                               \n",
            "                                                                                                  \n",
            " conv5_block2_2_conv (Conv2D)   (None, 7, 7, 512)    2359808     ['conv5_block2_1_relu[0][0]']    \n",
            "                                                                                                  \n",
            " conv5_block2_2_bn (BatchNormal  (None, 7, 7, 512)   2048        ['conv5_block2_2_conv[0][0]']    \n",
            " ization)                                                                                         \n",
            "                                                                                                  \n",
            " conv5_block2_2_relu (Activatio  (None, 7, 7, 512)   0           ['conv5_block2_2_bn[0][0]']      \n",
            " n)                                                                                               \n",
            "                                                                                                  \n",
            " conv5_block2_3_conv (Conv2D)   (None, 7, 7, 2048)   1050624     ['conv5_block2_2_relu[0][0]']    \n",
            "                                                                                                  \n",
            " conv5_block2_3_bn (BatchNormal  (None, 7, 7, 2048)  8192        ['conv5_block2_3_conv[0][0]']    \n",
            " ization)                                                                                         \n",
            "                                                                                                  \n",
            " conv5_block2_add (Add)         (None, 7, 7, 2048)   0           ['conv5_block1_out[0][0]',       \n",
            "                                                                  'conv5_block2_3_bn[0][0]']      \n",
            "                                                                                                  \n",
            " conv5_block2_out (Activation)  (None, 7, 7, 2048)   0           ['conv5_block2_add[0][0]']       \n",
            "                                                                                                  \n",
            " conv5_block3_1_conv (Conv2D)   (None, 7, 7, 512)    1049088     ['conv5_block2_out[0][0]']       \n",
            "                                                                                                  \n",
            " conv5_block3_1_bn (BatchNormal  (None, 7, 7, 512)   2048        ['conv5_block3_1_conv[0][0]']    \n",
            " ization)                                                                                         \n",
            "                                                                                                  \n",
            " conv5_block3_1_relu (Activatio  (None, 7, 7, 512)   0           ['conv5_block3_1_bn[0][0]']      \n",
            " n)                                                                                               \n",
            "                                                                                                  \n",
            " conv5_block3_2_conv (Conv2D)   (None, 7, 7, 512)    2359808     ['conv5_block3_1_relu[0][0]']    \n",
            "                                                                                                  \n",
            " conv5_block3_2_bn (BatchNormal  (None, 7, 7, 512)   2048        ['conv5_block3_2_conv[0][0]']    \n",
            " ization)                                                                                         \n",
            "                                                                                                  \n",
            " conv5_block3_2_relu (Activatio  (None, 7, 7, 512)   0           ['conv5_block3_2_bn[0][0]']      \n",
            " n)                                                                                               \n",
            "                                                                                                  \n",
            " conv5_block3_3_conv (Conv2D)   (None, 7, 7, 2048)   1050624     ['conv5_block3_2_relu[0][0]']    \n",
            "                                                                                                  \n",
            " conv5_block3_3_bn (BatchNormal  (None, 7, 7, 2048)  8192        ['conv5_block3_3_conv[0][0]']    \n",
            " ization)                                                                                         \n",
            "                                                                                                  \n",
            " conv5_block3_add (Add)         (None, 7, 7, 2048)   0           ['conv5_block2_out[0][0]',       \n",
            "                                                                  'conv5_block3_3_bn[0][0]']      \n",
            "                                                                                                  \n",
            " conv5_block3_out (Activation)  (None, 7, 7, 2048)   0           ['conv5_block3_add[0][0]']       \n",
            "                                                                                                  \n",
            " global_average_pooling2d_1 (Gl  (None, 2048)        0           ['conv5_block3_out[0][0]']       \n",
            " obalAveragePooling2D)                                                                            \n",
            "                                                                                                  \n",
            " dense_3 (Dense)                (None, 1024)         2098176     ['global_average_pooling2d_1[0][0\n",
            "                                                                 ]']                              \n",
            "                                                                                                  \n",
            " dropout_2 (Dropout)            (None, 1024)         0           ['dense_3[0][0]']                \n",
            "                                                                                                  \n",
            " dense_4 (Dense)                (None, 512)          524800      ['dropout_2[0][0]']              \n",
            "                                                                                                  \n",
            " dropout_3 (Dropout)            (None, 512)          0           ['dense_4[0][0]']                \n",
            "                                                                                                  \n",
            " dense_5 (Dense)                (None, 7)            3591        ['dropout_3[0][0]']              \n",
            "                                                                                                  \n",
            "==================================================================================================\n",
            "Total params: 26,214,279\n",
            "Trainable params: 2,626,567\n",
            "Non-trainable params: 23,587,712\n",
            "__________________________________________________________________________________________________\n"
          ]
        }
      ]
    },
    {
      "cell_type": "code",
      "source": [
        "# # Add early stopping callback\n",
        "early_stopping = EarlyStopping(monitor='val_loss', patience=10)\n",
        "\n",
        "\n",
        "# # Compile the model\n",
        "model.compile(optimizer='adam', loss='categorical_crossentropy', metrics=['accuracy'])\n"
      ],
      "metadata": {
        "trusted": true,
        "id": "DglbD4iNb9lR"
      },
      "execution_count": null,
      "outputs": []
    },
    {
      "cell_type": "code",
      "source": [
        "# Train the model with early stopping\n",
        "history = model.fit(train_generator, epochs=100,class_weight=class_weights_dict, validation_data=val_generator,callbacks=[early_stopping])"
      ],
      "metadata": {
        "trusted": true,
        "colab": {
          "base_uri": "https://localhost:8080/"
        },
        "id": "oHeM7GNnb9lR",
        "outputId": "92dd4d01-8169-4c31-9c40-a66565f71a66"
      },
      "execution_count": null,
      "outputs": [
        {
          "output_type": "stream",
          "name": "stdout",
          "text": [
            "Epoch 1/100\n",
            "51/51 [==============================] - 73s 1s/step - loss: 5.0922 - accuracy: 0.8176 - val_loss: 3.0157 - val_accuracy: 0.8877\n",
            "Epoch 2/100\n",
            "51/51 [==============================] - 68s 1s/step - loss: 2.5392 - accuracy: 0.8814 - val_loss: 2.0934 - val_accuracy: 0.8877\n",
            "Epoch 3/100\n",
            "51/51 [==============================] - 68s 1s/step - loss: 1.8369 - accuracy: 0.8937 - val_loss: 1.6057 - val_accuracy: 0.8985\n",
            "Epoch 4/100\n",
            "51/51 [==============================] - 68s 1s/step - loss: 1.4402 - accuracy: 0.8974 - val_loss: 1.3529 - val_accuracy: 0.8898\n",
            "Epoch 5/100\n",
            "51/51 [==============================] - 59s 1s/step - loss: 1.1761 - accuracy: 0.9171 - val_loss: 1.0837 - val_accuracy: 0.9006\n",
            "Epoch 6/100\n",
            "51/51 [==============================] - 58s 1s/step - loss: 0.9855 - accuracy: 0.9220 - val_loss: 1.0183 - val_accuracy: 0.8812\n",
            "Epoch 7/100\n",
            "51/51 [==============================] - 58s 1s/step - loss: 0.8597 - accuracy: 0.9171 - val_loss: 0.8821 - val_accuracy: 0.8855\n",
            "Epoch 8/100\n",
            "51/51 [==============================] - 58s 1s/step - loss: 0.8070 - accuracy: 0.9122 - val_loss: 0.8259 - val_accuracy: 0.9114\n",
            "Epoch 9/100\n",
            "51/51 [==============================] - 59s 1s/step - loss: 0.7558 - accuracy: 0.9115 - val_loss: 0.7904 - val_accuracy: 0.8855\n",
            "Epoch 10/100\n",
            "51/51 [==============================] - 58s 1s/step - loss: 0.7154 - accuracy: 0.9171 - val_loss: 0.7256 - val_accuracy: 0.9071\n",
            "Epoch 11/100\n",
            "51/51 [==============================] - 57s 1s/step - loss: 0.6585 - accuracy: 0.9244 - val_loss: 0.7207 - val_accuracy: 0.8963\n",
            "Epoch 12/100\n",
            "51/51 [==============================] - 66s 1s/step - loss: 0.6212 - accuracy: 0.9318 - val_loss: 0.7421 - val_accuracy: 0.8747\n",
            "Epoch 13/100\n",
            "51/51 [==============================] - 67s 1s/step - loss: 0.6498 - accuracy: 0.9109 - val_loss: 0.7081 - val_accuracy: 0.8920\n",
            "Epoch 14/100\n",
            "51/51 [==============================] - 59s 1s/step - loss: 0.6298 - accuracy: 0.9244 - val_loss: 0.6412 - val_accuracy: 0.9201\n",
            "Epoch 15/100\n",
            "51/51 [==============================] - 58s 1s/step - loss: 0.5934 - accuracy: 0.9349 - val_loss: 0.6578 - val_accuracy: 0.8963\n",
            "Epoch 16/100\n",
            "51/51 [==============================] - 58s 1s/step - loss: 0.5461 - accuracy: 0.9423 - val_loss: 0.5900 - val_accuracy: 0.9136\n",
            "Epoch 17/100\n",
            "51/51 [==============================] - 68s 1s/step - loss: 0.5650 - accuracy: 0.9251 - val_loss: 0.6333 - val_accuracy: 0.9006\n",
            "Epoch 18/100\n",
            "51/51 [==============================] - 68s 1s/step - loss: 0.5706 - accuracy: 0.9251 - val_loss: 0.5963 - val_accuracy: 0.9179\n",
            "Epoch 19/100\n",
            "51/51 [==============================] - 68s 1s/step - loss: 0.5284 - accuracy: 0.9281 - val_loss: 0.5799 - val_accuracy: 0.9244\n",
            "Epoch 20/100\n",
            "51/51 [==============================] - 59s 1s/step - loss: 0.5590 - accuracy: 0.9201 - val_loss: 0.5641 - val_accuracy: 0.9093\n",
            "Epoch 21/100\n",
            "51/51 [==============================] - 58s 1s/step - loss: 0.5692 - accuracy: 0.9189 - val_loss: 0.6627 - val_accuracy: 0.8877\n",
            "Epoch 22/100\n",
            "51/51 [==============================] - 58s 1s/step - loss: 0.6061 - accuracy: 0.9140 - val_loss: 0.6244 - val_accuracy: 0.9158\n",
            "Epoch 23/100\n",
            "51/51 [==============================] - 58s 1s/step - loss: 0.5680 - accuracy: 0.9244 - val_loss: 0.6428 - val_accuracy: 0.9006\n",
            "Epoch 24/100\n",
            "51/51 [==============================] - 68s 1s/step - loss: 0.5602 - accuracy: 0.9244 - val_loss: 0.6159 - val_accuracy: 0.8963\n",
            "Epoch 25/100\n",
            "51/51 [==============================] - 68s 1s/step - loss: 0.5629 - accuracy: 0.9214 - val_loss: 0.5859 - val_accuracy: 0.9136\n",
            "Epoch 26/100\n",
            "51/51 [==============================] - 58s 1s/step - loss: 0.5469 - accuracy: 0.9287 - val_loss: 0.6453 - val_accuracy: 0.8769\n",
            "Epoch 27/100\n",
            "51/51 [==============================] - 58s 1s/step - loss: 0.5481 - accuracy: 0.9244 - val_loss: 0.6268 - val_accuracy: 0.8877\n",
            "Epoch 28/100\n",
            "51/51 [==============================] - 58s 1s/step - loss: 0.5243 - accuracy: 0.9355 - val_loss: 0.6219 - val_accuracy: 0.8942\n",
            "Epoch 29/100\n",
            "51/51 [==============================] - 58s 1s/step - loss: 0.4996 - accuracy: 0.9355 - val_loss: 0.5564 - val_accuracy: 0.9093\n",
            "Epoch 30/100\n",
            "51/51 [==============================] - 68s 1s/step - loss: 0.4837 - accuracy: 0.9318 - val_loss: 0.5397 - val_accuracy: 0.9201\n",
            "Epoch 31/100\n",
            "51/51 [==============================] - 68s 1s/step - loss: 0.4647 - accuracy: 0.9386 - val_loss: 0.6437 - val_accuracy: 0.8942\n",
            "Epoch 32/100\n",
            "51/51 [==============================] - 68s 1s/step - loss: 0.5372 - accuracy: 0.9201 - val_loss: 0.6036 - val_accuracy: 0.9050\n",
            "Epoch 33/100\n",
            "51/51 [==============================] - 68s 1s/step - loss: 0.5782 - accuracy: 0.9146 - val_loss: 0.6057 - val_accuracy: 0.9136\n",
            "Epoch 34/100\n",
            "51/51 [==============================] - 59s 1s/step - loss: 0.5923 - accuracy: 0.9036 - val_loss: 0.6122 - val_accuracy: 0.9222\n",
            "Epoch 35/100\n",
            "51/51 [==============================] - 59s 1s/step - loss: 0.5577 - accuracy: 0.9226 - val_loss: 0.5652 - val_accuracy: 0.9158\n",
            "Epoch 36/100\n",
            "51/51 [==============================] - 58s 1s/step - loss: 0.5507 - accuracy: 0.9226 - val_loss: 0.5407 - val_accuracy: 0.9179\n",
            "Epoch 37/100\n",
            "51/51 [==============================] - 58s 1s/step - loss: 0.5085 - accuracy: 0.9294 - val_loss: 0.5443 - val_accuracy: 0.9179\n",
            "Epoch 38/100\n",
            "51/51 [==============================] - 68s 1s/step - loss: 0.5341 - accuracy: 0.9183 - val_loss: 0.6305 - val_accuracy: 0.8747\n",
            "Epoch 39/100\n",
            "51/51 [==============================] - 68s 1s/step - loss: 0.5573 - accuracy: 0.9140 - val_loss: 0.6364 - val_accuracy: 0.8920\n",
            "Epoch 40/100\n",
            "51/51 [==============================] - 68s 1s/step - loss: 0.5968 - accuracy: 0.9115 - val_loss: 0.6251 - val_accuracy: 0.8920\n"
          ]
        }
      ]
    },
    {
      "cell_type": "code",
      "source": [
        "v1,v2=history.history['accuracy'],history.history['val_accuracy']\n",
        "def plot_graph(v1,v2,xlabel,ylabel,title):\n",
        "    plt.plot(v1)\n",
        "    plt.plot(v2)\n",
        "    plt.title(title)\n",
        "    plt.ylabel(ylabel)\n",
        "    plt.xlabel(xlabel)\n",
        "#     plt.legend(['train', 'val'], loc='upper left')\n",
        "    plt.show()\n",
        "# summarize history for loss\n",
        "plt.plot(history.history['loss'])\n",
        "plt.plot(history.history['val_loss'])\n",
        "plt.title('model loss')\n",
        "plt.ylabel('loss')\n",
        "plt.xlabel('epoch')\n",
        "plt.legend(['train', 'val'], loc='upper left')\n",
        "plt.show()"
      ],
      "metadata": {
        "execution": {
          "iopub.status.busy": "2023-02-25T15:45:48.438115Z",
          "iopub.execute_input": "2023-02-25T15:45:48.438470Z",
          "iopub.status.idle": "2023-02-25T15:45:48.444116Z",
          "shell.execute_reply.started": "2023-02-25T15:45:48.438439Z",
          "shell.execute_reply": "2023-02-25T15:45:48.443100Z"
        },
        "trusted": true,
        "colab": {
          "base_uri": "https://localhost:8080/",
          "height": 472
        },
        "id": "mC9CZ7W-b9lR",
        "outputId": "31123b2f-bc54-4314-c61c-89124ce10e09"
      },
      "execution_count": null,
      "outputs": [
        {
          "output_type": "display_data",
          "data": {
            "text/plain": [
              "<Figure size 640x480 with 1 Axes>"
            ],
            "image/png": "[encoded data removed]"
          },
          "metadata": {}
        }
      ]
    },
    {
      "cell_type": "code",
      "source": [
        "test_dir=\"/content/test\"\n",
        "test_datagen = ImageDataGenerator(preprocessing_function=preprocess_input)\n",
        "test_generator = test_datagen.flow_from_directory(\n",
        "    test_dir,\n",
        "    target_size=(224, 224),\n",
        "    batch_size=batch_size,\n",
        "    class_mode='categorical')\n"
      ],
      "metadata": {
        "execution": {
          "iopub.status.busy": "2023-02-25T15:15:05.935916Z",
          "iopub.execute_input": "2023-02-25T15:15:05.936325Z",
          "iopub.status.idle": "2023-02-25T15:15:06.045905Z",
          "shell.execute_reply.started": "2023-02-25T15:15:05.936292Z",
          "shell.execute_reply": "2023-02-25T15:15:06.044861Z"
        },
        "trusted": true,
        "colab": {
          "base_uri": "https://localhost:8080/"
        },
        "id": "wNyYYAF1b9lR",
        "outputId": "04c605e7-c0e3-4983-85d2-890de85d31f0"
      },
      "execution_count": null,
      "outputs": [
        {
          "output_type": "stream",
          "name": "stdout",
          "text": [
            "Found 240 images belonging to 7 classes.\n"
          ]
        }
      ]
    },
    {
      "cell_type": "code",
      "source": [
        "test_generator.class_indices"
      ],
      "metadata": {
        "execution": {
          "iopub.status.busy": "2023-02-25T15:15:12.471399Z",
          "iopub.execute_input": "2023-02-25T15:15:12.471764Z",
          "iopub.status.idle": "2023-02-25T15:15:12.478215Z",
          "shell.execute_reply.started": "2023-02-25T15:15:12.471715Z",
          "shell.execute_reply": "2023-02-25T15:15:12.477243Z"
        },
        "trusted": true,
        "colab": {
          "base_uri": "https://localhost:8080/"
        },
        "id": "GoxrNxiIb9lR",
        "outputId": "ac7f1de3-fbc6-463e-d960-c58cb971e9bf"
      },
      "execution_count": null,
      "outputs": [
        {
          "output_type": "execute_result",
          "data": {
            "text/plain": [
              "{'Motorcycle': 0,\n",
              " 'bus': 1,\n",
              " 'car': 2,\n",
              " 'large_truck': 3,\n",
              " 'microbus': 4,\n",
              " 'semi_truck': 5,\n",
              " 'truck': 6}"
            ]
          },
          "metadata": {},
          "execution_count": 72
        }
      ]
    },
    {
      "cell_type": "code",
      "source": [
        "test_loss, test_acc = model.evaluate(test_generator, steps=len(test_generator))\n",
        "print('Test loss:', test_loss)\n",
        "print('Test accuracy:', test_acc)\n"
      ],
      "metadata": {
        "trusted": true,
        "colab": {
          "base_uri": "https://localhost:8080/"
        },
        "id": "4jdCa6Bsb9lS",
        "outputId": "64a159ed-a3cc-49f6-d170-2871a85bd64e"
      },
      "execution_count": null,
      "outputs": [
        {
          "output_type": "stream",
          "name": "stdout",
          "text": [
            "8/8 [==============================] - 8s 987ms/step - loss: 0.5902 - accuracy: 0.9042\n",
            "Test loss: 0.5901538729667664\n",
            "Test accuracy: 0.9041666388511658\n"
          ]
        }
      ]
    },
    {
      "cell_type": "code",
      "source": [
        "model.save(\"car_classifier_resnet_version7.h5\")"
      ],
      "metadata": {
        "trusted": true,
        "id": "VjorlM2ib9lS"
      },
      "execution_count": null,
      "outputs": []
    },
    {
      "cell_type": "markdown",
      "source": [
        "## Model 2"
      ],
      "metadata": {
        "id": "m1-iYgCTb9lS"
      }
    },
    {
      "cell_type": "code",
      "source": [
        "import tensorflow as tf\n",
        "from tensorflow.keras.applications import EfficientNetB0\n",
        "from tensorflow.keras import layers as L\n",
        "from tensorflow.keras.layers.experimental import preprocessing\n",
        "from tensorflow.keras.models import Sequential\n",
        "IMG_SHAPE=(224,224)\n",
        "classes=list(train_generator.class_indices.keys())\n",
        "classes"
      ],
      "metadata": {
        "execution": {
          "iopub.status.busy": "2023-02-25T15:15:24.939454Z",
          "iopub.execute_input": "2023-02-25T15:15:24.939823Z",
          "iopub.status.idle": "2023-02-25T15:15:24.953811Z",
          "shell.execute_reply.started": "2023-02-25T15:15:24.939791Z",
          "shell.execute_reply": "2023-02-25T15:15:24.952817Z"
        },
        "trusted": true,
        "colab": {
          "base_uri": "https://localhost:8080/"
        },
        "id": "lVo0e9CSb9lT",
        "outputId": "2b76df4e-c2b3-418d-b0d8-a71b3c84f55f"
      },
      "execution_count": null,
      "outputs": [
        {
          "output_type": "execute_result",
          "data": {
            "text/plain": [
              "['Motorcycle', 'bus', 'car', 'large_truck', 'microbus', 'semi_truck', 'truck']"
            ]
          },
          "metadata": {},
          "execution_count": 49
        }
      ]
    },
    {
      "cell_type": "code",
      "source": [
        "data_augmentation= Sequential(\n",
        "[\n",
        "    preprocessing.RandomZoom(0.2),\n",
        "    preprocessing.RandomWidth(0.1),\n",
        "    preprocessing.RandomHeight(0.1),\n",
        "    preprocessing.RandomFlip(\"horizontal\")\n",
        "],name='data-augmentiation-layer')\n"
      ],
      "metadata": {
        "execution": {
          "iopub.status.busy": "2023-02-25T15:15:29.265118Z",
          "iopub.execute_input": "2023-02-25T15:15:29.265769Z",
          "iopub.status.idle": "2023-02-25T15:15:32.045921Z",
          "shell.execute_reply.started": "2023-02-25T15:15:29.265710Z",
          "shell.execute_reply": "2023-02-25T15:15:32.044938Z"
        },
        "trusted": true,
        "id": "i7GhaMXhb9lT"
      },
      "execution_count": null,
      "outputs": []
    },
    {
      "cell_type": "code",
      "source": [],
      "metadata": {
        "execution": {
          "iopub.status.busy": "2023-02-25T01:32:29.987765Z",
          "iopub.execute_input": "2023-02-25T01:32:29.988194Z",
          "iopub.status.idle": "2023-02-25T01:32:29.994966Z",
          "shell.execute_reply.started": "2023-02-25T01:32:29.988153Z",
          "shell.execute_reply": "2023-02-25T01:32:29.993982Z"
        },
        "trusted": true,
        "id": "0Lg0nB65b9lU"
      },
      "execution_count": null,
      "outputs": []
    },
    {
      "cell_type": "code",
      "source": [
        "\n",
        "model_e= EfficientNetB0(include_top=False)\n",
        "model_e.trainable=False\n",
        "input_layer= L.Input(shape=IMG_SHAPE+(3,),name='input_layer')\n",
        "x= data_augmentation(input_layer)\n",
        "x=model_e(x)\n",
        "x=L.GlobalAveragePooling2D(name='minimazie_dimentions')(x)\n",
        "x= L.Dense(128,activation='relu',name='added_layer_1')(x)\n",
        "output_layer= L.Dense(len(classes),activation='softmax',name='output_layer')(x)\n",
        "model= keras.Model(input_layer,output_layer)\n",
        "model.compile(loss='categorical_crossentropy',\n",
        "              optimizer='adam',\n",
        "              metrics=['accuracy'])"
      ],
      "metadata": {
        "execution": {
          "iopub.status.busy": "2023-02-25T15:34:44.456693Z",
          "iopub.execute_input": "2023-02-25T15:34:44.457793Z",
          "iopub.status.idle": "2023-02-25T15:35:36.471003Z",
          "shell.execute_reply.started": "2023-02-25T15:34:44.457719Z",
          "shell.execute_reply": "2023-02-25T15:35:36.470041Z"
        },
        "trusted": true,
        "id": "CDOOm6EEb9lU"
      },
      "execution_count": null,
      "outputs": []
    },
    {
      "cell_type": "code",
      "source": [
        "model.summary()"
      ],
      "metadata": {
        "execution": {
          "iopub.status.busy": "2023-02-25T15:18:23.495451Z",
          "iopub.execute_input": "2023-02-25T15:18:23.495842Z",
          "iopub.status.idle": "2023-02-25T15:18:23.539421Z",
          "shell.execute_reply.started": "2023-02-25T15:18:23.495808Z",
          "shell.execute_reply": "2023-02-25T15:18:23.538495Z"
        },
        "trusted": true,
        "colab": {
          "base_uri": "https://localhost:8080/"
        },
        "id": "55zVe6Srb9lU",
        "outputId": "f586c374-7e0e-4dfe-ae7e-7d6772be5a50"
      },
      "execution_count": null,
      "outputs": [
        {
          "output_type": "stream",
          "name": "stdout",
          "text": [
            "Model: \"model_2\"\n",
            "_________________________________________________________________\n",
            " Layer (type)                Output Shape              Param #   \n",
            "=================================================================\n",
            " input_layer (InputLayer)    [(None, 224, 224, 3)]     0         \n",
            "                                                                 \n",
            " data-augmentiation-layer (S  (None, None, None, 3)    0         \n",
            " equential)                                                      \n",
            "                                                                 \n",
            " efficientnetb0 (Functional)  (None, None, None, 1280)  4049571  \n",
            "                                                                 \n",
            " minimazie_dimentions (Globa  (None, 1280)             0         \n",
            " lAveragePooling2D)                                              \n",
            "                                                                 \n",
            " added_layer_1 (Dense)       (None, 128)               163968    \n",
            "                                                                 \n",
            " output_layer (Dense)        (None, 7)                 903       \n",
            "                                                                 \n",
            "=================================================================\n",
            "Total params: 4,214,442\n",
            "Trainable params: 164,871\n",
            "Non-trainable params: 4,049,571\n",
            "_________________________________________________________________\n"
          ]
        }
      ]
    },
    {
      "cell_type": "code",
      "source": [
        "for i in model.layers:\n",
        "    print(i.name.ljust(25),i.trainable)"
      ],
      "metadata": {
        "execution": {
          "iopub.status.busy": "2023-02-25T15:34:20.526431Z",
          "iopub.execute_input": "2023-02-25T15:34:20.528066Z",
          "iopub.status.idle": "2023-02-25T15:34:20.535304Z",
          "shell.execute_reply.started": "2023-02-25T15:34:20.528018Z",
          "shell.execute_reply": "2023-02-25T15:34:20.534105Z"
        },
        "trusted": true,
        "colab": {
          "base_uri": "https://localhost:8080/"
        },
        "id": "6OoI2k2db9lU",
        "outputId": "4b56f074-c4f1-410f-c34a-e6d606d1f3ec"
      },
      "execution_count": null,
      "outputs": [
        {
          "output_type": "stream",
          "name": "stdout",
          "text": [
            "input_layer               True\n",
            "data-augmentiation-layer  True\n",
            "efficientnetb0            False\n",
            "minimazie_dimentions      True\n",
            "added_layer_1             True\n",
            "output_layer              True\n"
          ]
        }
      ]
    },
    {
      "cell_type": "code",
      "source": [
        "from tensorflow.keras.callbacks import EarlyStopping\n",
        "from tensorflow.keras.callbacks import ModelCheckpoint\n",
        "\n",
        "early_stopping = EarlyStopping(monitor='val_loss', patience=8)\n",
        "\n",
        "checkpoint_path='callbacks/ModelCheckPoint/'\n",
        "checkpoint= ModelCheckpoint(\n",
        "            checkpoint_path,\n",
        "            save_weights_only=True, # save only the model weights\n",
        "            monitor=\"val_accuracy\", # save the model weights which score the best validation accuracy\n",
        "            save_best_only=True)\n",
        "    "
      ],
      "metadata": {
        "execution": {
          "iopub.status.busy": "2023-02-25T15:34:23.628882Z",
          "iopub.execute_input": "2023-02-25T15:34:23.629240Z",
          "iopub.status.idle": "2023-02-25T15:34:23.635709Z",
          "shell.execute_reply.started": "2023-02-25T15:34:23.629209Z",
          "shell.execute_reply": "2023-02-25T15:34:23.634674Z"
        },
        "trusted": true,
        "id": "yX9H7NM5b9lU"
      },
      "execution_count": null,
      "outputs": []
    },
    {
      "cell_type": "code",
      "source": [
        "history=model.fit(train_generator,\n",
        "             epochs=10,\n",
        "          validation_data=val_generator,\n",
        "          callbacks=[\n",
        "              checkpoint,\n",
        "              early_stopping]\n",
        "                 )"
      ],
      "metadata": {
        "execution": {
          "iopub.status.busy": "2023-02-25T15:35:36.472896Z",
          "iopub.execute_input": "2023-02-25T15:35:36.473249Z",
          "iopub.status.idle": "2023-02-25T15:38:16.990679Z",
          "shell.execute_reply.started": "2023-02-25T15:35:36.473210Z",
          "shell.execute_reply": "2023-02-25T15:38:16.989623Z"
        },
        "trusted": true,
        "colab": {
          "base_uri": "https://localhost:8080/"
        },
        "id": "uAG_ha7nb9lU",
        "outputId": "a42f3ea4-dcb8-4b22-86da-01e44f0a0937"
      },
      "execution_count": null,
      "outputs": [
        {
          "output_type": "stream",
          "name": "stdout",
          "text": [
            "Epoch 1/10\n",
            "51/51 [==============================] - 68s 1s/step - loss: 1.1906 - accuracy: 0.5498 - val_loss: 0.9035 - val_accuracy: 0.6739\n",
            "Epoch 2/10\n",
            "51/51 [==============================] - 60s 1s/step - loss: 0.7489 - accuracy: 0.7260 - val_loss: 0.7383 - val_accuracy: 0.7300\n",
            "Epoch 3/10\n",
            "51/51 [==============================] - 59s 1s/step - loss: 0.6303 - accuracy: 0.7807 - val_loss: 0.6696 - val_accuracy: 0.7862\n",
            "Epoch 4/10\n",
            "51/51 [==============================] - 58s 1s/step - loss: 0.5667 - accuracy: 0.7924 - val_loss: 0.6332 - val_accuracy: 0.7819\n",
            "Epoch 5/10\n",
            "51/51 [==============================] - 69s 1s/step - loss: 0.5250 - accuracy: 0.8071 - val_loss: 0.6289 - val_accuracy: 0.7862\n",
            "Epoch 6/10\n",
            "51/51 [==============================] - 68s 1s/step - loss: 0.4656 - accuracy: 0.8354 - val_loss: 0.6523 - val_accuracy: 0.7559\n",
            "Epoch 7/10\n",
            "51/51 [==============================] - 69s 1s/step - loss: 0.4309 - accuracy: 0.8452 - val_loss: 0.5660 - val_accuracy: 0.7991\n",
            "Epoch 8/10\n",
            "51/51 [==============================] - 68s 1s/step - loss: 0.4053 - accuracy: 0.8550 - val_loss: 0.5688 - val_accuracy: 0.7927\n",
            "Epoch 9/10\n",
            "51/51 [==============================] - 68s 1s/step - loss: 0.3477 - accuracy: 0.8710 - val_loss: 0.6117 - val_accuracy: 0.7927\n",
            "Epoch 10/10\n",
            "51/51 [==============================] - 59s 1s/step - loss: 0.3546 - accuracy: 0.8771 - val_loss: 0.5732 - val_accuracy: 0.7927\n"
          ]
        }
      ]
    },
    {
      "cell_type": "code",
      "source": [
        "model.evaluate(test_generator)"
      ],
      "metadata": {
        "execution": {
          "iopub.status.busy": "2023-02-25T15:38:16.992932Z",
          "iopub.execute_input": "2023-02-25T15:38:16.993299Z",
          "iopub.status.idle": "2023-02-25T15:38:19.735627Z",
          "shell.execute_reply.started": "2023-02-25T15:38:16.993262Z",
          "shell.execute_reply": "2023-02-25T15:38:19.734725Z"
        },
        "trusted": true,
        "colab": {
          "base_uri": "https://localhost:8080/"
        },
        "id": "2G1JOj3Ob9lV",
        "outputId": "e2272fc0-7c03-4fa4-8fce-e8267d62248a"
      },
      "execution_count": null,
      "outputs": [
        {
          "output_type": "stream",
          "name": "stdout",
          "text": [
            "8/8 [==============================] - 6s 676ms/step - loss: 0.5223 - accuracy: 0.8417\n"
          ]
        },
        {
          "output_type": "execute_result",
          "data": {
            "text/plain": [
              "[0.5222560167312622, 0.8416666388511658]"
            ]
          },
          "metadata": {},
          "execution_count": 56
        }
      ]
    },
    {
      "cell_type": "code",
      "source": [
        "for layer in model_e.layers[len(model_e.layers)-11:]:\n",
        "  layer.trainable = True"
      ],
      "metadata": {
        "execution": {
          "iopub.status.busy": "2023-02-25T15:38:19.737374Z",
          "iopub.execute_input": "2023-02-25T15:38:19.738409Z",
          "iopub.status.idle": "2023-02-25T15:38:19.745172Z",
          "shell.execute_reply.started": "2023-02-25T15:38:19.738371Z",
          "shell.execute_reply": "2023-02-25T15:38:19.743994Z"
        },
        "trusted": true,
        "id": "fBF_QGxeb9lV"
      },
      "execution_count": null,
      "outputs": []
    },
    {
      "cell_type": "code",
      "source": [
        "for layer_number, layer in enumerate(model_e.layers):\n",
        "  print(str(layer_number).ljust(3), layer.name.ljust(29), str(layer.trainable).ljust(5))"
      ],
      "metadata": {
        "execution": {
          "iopub.status.busy": "2023-02-25T15:39:32.888562Z",
          "iopub.execute_input": "2023-02-25T15:39:32.888972Z",
          "iopub.status.idle": "2023-02-25T15:39:32.900871Z",
          "shell.execute_reply.started": "2023-02-25T15:39:32.888926Z",
          "shell.execute_reply": "2023-02-25T15:39:32.899867Z"
        },
        "trusted": true,
        "id": "pSY2TxM5b9lV"
      },
      "execution_count": null,
      "outputs": []
    },
    {
      "cell_type": "code",
      "source": [
        "model.compile(loss=\"categorical_crossentropy\",\n",
        "              optimizer=tf.keras.optimizers.Adam(learning_rate=0.0001),\n",
        "              metrics=[\"accuracy\"])"
      ],
      "metadata": {
        "execution": {
          "iopub.status.busy": "2023-02-25T15:47:34.034944Z",
          "iopub.execute_input": "2023-02-25T15:47:34.035329Z",
          "iopub.status.idle": "2023-02-25T15:47:34.051154Z",
          "shell.execute_reply.started": "2023-02-25T15:47:34.035296Z",
          "shell.execute_reply": "2023-02-25T15:47:34.049958Z"
        },
        "trusted": true,
        "id": "ykEduaWJb9lV"
      },
      "execution_count": null,
      "outputs": []
    },
    {
      "cell_type": "code",
      "source": [
        "history.epoch"
      ],
      "metadata": {
        "execution": {
          "iopub.status.busy": "2023-02-25T15:41:28.371810Z",
          "iopub.execute_input": "2023-02-25T15:41:28.372173Z",
          "iopub.status.idle": "2023-02-25T15:41:28.379355Z",
          "shell.execute_reply.started": "2023-02-25T15:41:28.372141Z",
          "shell.execute_reply": "2023-02-25T15:41:28.378167Z"
        },
        "trusted": true,
        "colab": {
          "base_uri": "https://localhost:8080/"
        },
        "id": "UyKjKkWqb9lV",
        "outputId": "024947d6-4bbf-45aa-9eeb-268585a61928"
      },
      "execution_count": null,
      "outputs": [
        {
          "output_type": "execute_result",
          "data": {
            "text/plain": [
              "[0, 1, 2, 3, 4, 5, 6, 7, 8, 9]"
            ]
          },
          "metadata": {},
          "execution_count": 60
        }
      ]
    },
    {
      "cell_type": "code",
      "source": [
        "tuned_history=model.fit(train_generator,epochs=35+len(history.epoch),\n",
        "              initial_epoch=history.epoch[-1],\n",
        "              validation_data=val_generator,)"
      ],
      "metadata": {
        "execution": {
          "iopub.status.busy": "2023-02-25T15:47:36.735607Z",
          "iopub.execute_input": "2023-02-25T15:47:36.736203Z",
          "iopub.status.idle": "2023-02-25T15:51:27.225882Z",
          "shell.execute_reply.started": "2023-02-25T15:47:36.736165Z",
          "shell.execute_reply": "2023-02-25T15:51:27.224919Z"
        },
        "trusted": true,
        "colab": {
          "base_uri": "https://localhost:8080/"
        },
        "id": "7SsFezKjb9lW",
        "outputId": "5de84f6f-5eba-4056-fed7-f6ff59fe3ef5"
      },
      "execution_count": null,
      "outputs": [
        {
          "output_type": "stream",
          "name": "stdout",
          "text": [
            "Epoch 10/45\n",
            "51/51 [==============================] - 69s 1s/step - loss: 0.4531 - accuracy: 0.8514 - val_loss: 0.5748 - val_accuracy: 0.7819\n",
            "Epoch 11/45\n",
            "51/51 [==============================] - 58s 1s/step - loss: 0.4153 - accuracy: 0.8722 - val_loss: 0.5783 - val_accuracy: 0.7840\n",
            "Epoch 12/45\n",
            "51/51 [==============================] - 58s 1s/step - loss: 0.3994 - accuracy: 0.8790 - val_loss: 0.5843 - val_accuracy: 0.7905\n",
            "Epoch 13/45\n",
            "51/51 [==============================] - 69s 1s/step - loss: 0.3547 - accuracy: 0.8931 - val_loss: 0.5863 - val_accuracy: 0.7840\n",
            "Epoch 14/45\n",
            "51/51 [==============================] - 68s 1s/step - loss: 0.3608 - accuracy: 0.8821 - val_loss: 0.5869 - val_accuracy: 0.7754\n",
            "Epoch 15/45\n",
            "51/51 [==============================] - 60s 1s/step - loss: 0.3349 - accuracy: 0.8919 - val_loss: 0.5867 - val_accuracy: 0.7819\n",
            "Epoch 16/45\n",
            "51/51 [==============================] - 58s 1s/step - loss: 0.3457 - accuracy: 0.8882 - val_loss: 0.5814 - val_accuracy: 0.7883\n",
            "Epoch 17/45\n",
            "51/51 [==============================] - 59s 1s/step - loss: 0.3072 - accuracy: 0.9042 - val_loss: 0.5851 - val_accuracy: 0.7948\n",
            "Epoch 18/45\n",
            "51/51 [==============================] - 69s 1s/step - loss: 0.3092 - accuracy: 0.9054 - val_loss: 0.5875 - val_accuracy: 0.7927\n",
            "Epoch 19/45\n",
            "51/51 [==============================] - 59s 1s/step - loss: 0.3147 - accuracy: 0.9066 - val_loss: 0.5842 - val_accuracy: 0.7948\n",
            "Epoch 20/45\n",
            "51/51 [==============================] - 58s 1s/step - loss: 0.3279 - accuracy: 0.8993 - val_loss: 0.5844 - val_accuracy: 0.7862\n",
            "Epoch 21/45\n",
            "51/51 [==============================] - 57s 1s/step - loss: 0.3141 - accuracy: 0.8907 - val_loss: 0.5890 - val_accuracy: 0.7883\n",
            "Epoch 22/45\n",
            "51/51 [==============================] - 58s 1s/step - loss: 0.3179 - accuracy: 0.8937 - val_loss: 0.5846 - val_accuracy: 0.7970\n",
            "Epoch 23/45\n",
            "51/51 [==============================] - 68s 1s/step - loss: 0.2833 - accuracy: 0.9165 - val_loss: 0.5869 - val_accuracy: 0.7927\n",
            "Epoch 24/45\n",
            "51/51 [==============================] - 59s 1s/step - loss: 0.2979 - accuracy: 0.9079 - val_loss: 0.5882 - val_accuracy: 0.7927\n",
            "Epoch 25/45\n",
            "51/51 [==============================] - 58s 1s/step - loss: 0.2991 - accuracy: 0.8993 - val_loss: 0.5820 - val_accuracy: 0.7991\n",
            "Epoch 26/45\n",
            "51/51 [==============================] - 58s 1s/step - loss: 0.3109 - accuracy: 0.8950 - val_loss: 0.5850 - val_accuracy: 0.7970\n",
            "Epoch 27/45\n",
            "51/51 [==============================] - 58s 1s/step - loss: 0.2878 - accuracy: 0.9060 - val_loss: 0.5854 - val_accuracy: 0.7948\n",
            "Epoch 28/45\n",
            "51/51 [==============================] - 59s 1s/step - loss: 0.2931 - accuracy: 0.9146 - val_loss: 0.5842 - val_accuracy: 0.7970\n",
            "Epoch 29/45\n",
            "51/51 [==============================] - 58s 1s/step - loss: 0.3104 - accuracy: 0.8950 - val_loss: 0.5809 - val_accuracy: 0.7948\n",
            "Epoch 30/45\n",
            "51/51 [==============================] - 58s 1s/step - loss: 0.2730 - accuracy: 0.9189 - val_loss: 0.5817 - val_accuracy: 0.7927\n",
            "Epoch 31/45\n",
            "51/51 [==============================] - 58s 1s/step - loss: 0.2783 - accuracy: 0.9115 - val_loss: 0.5804 - val_accuracy: 0.7991\n",
            "Epoch 32/45\n",
            "51/51 [==============================] - 60s 1s/step - loss: 0.3036 - accuracy: 0.8950 - val_loss: 0.5779 - val_accuracy: 0.7905\n",
            "Epoch 33/45\n",
            "51/51 [==============================] - 58s 1s/step - loss: 0.2658 - accuracy: 0.9158 - val_loss: 0.5847 - val_accuracy: 0.7970\n",
            "Epoch 34/45\n",
            "51/51 [==============================] - 58s 1s/step - loss: 0.2804 - accuracy: 0.9042 - val_loss: 0.5800 - val_accuracy: 0.8056\n",
            "Epoch 35/45\n",
            "51/51 [==============================] - 58s 1s/step - loss: 0.3044 - accuracy: 0.8993 - val_loss: 0.5768 - val_accuracy: 0.8013\n",
            "Epoch 36/45\n",
            "51/51 [==============================] - 60s 1s/step - loss: 0.2923 - accuracy: 0.9066 - val_loss: 0.5736 - val_accuracy: 0.8013\n",
            "Epoch 37/45\n",
            "51/51 [==============================] - 57s 1s/step - loss: 0.2996 - accuracy: 0.8968 - val_loss: 0.5779 - val_accuracy: 0.8056\n",
            "Epoch 38/45\n",
            "51/51 [==============================] - 57s 1s/step - loss: 0.2853 - accuracy: 0.8999 - val_loss: 0.5784 - val_accuracy: 0.7970\n",
            "Epoch 39/45\n",
            "51/51 [==============================] - 57s 1s/step - loss: 0.2643 - accuracy: 0.9042 - val_loss: 0.5818 - val_accuracy: 0.7905\n",
            "Epoch 40/45\n",
            "51/51 [==============================] - 68s 1s/step - loss: 0.2579 - accuracy: 0.9158 - val_loss: 0.5817 - val_accuracy: 0.7970\n",
            "Epoch 41/45\n",
            "51/51 [==============================] - 59s 1s/step - loss: 0.2488 - accuracy: 0.9287 - val_loss: 0.5838 - val_accuracy: 0.7927\n",
            "Epoch 42/45\n",
            "51/51 [==============================] - 59s 1s/step - loss: 0.2705 - accuracy: 0.9103 - val_loss: 0.5805 - val_accuracy: 0.7970\n",
            "Epoch 43/45\n",
            "51/51 [==============================] - 58s 1s/step - loss: 0.2564 - accuracy: 0.9220 - val_loss: 0.5800 - val_accuracy: 0.7970\n",
            "Epoch 44/45\n",
            "51/51 [==============================] - 69s 1s/step - loss: 0.2479 - accuracy: 0.9214 - val_loss: 0.5788 - val_accuracy: 0.7948\n",
            "Epoch 45/45\n",
            "51/51 [==============================] - 58s 1s/step - loss: 0.2394 - accuracy: 0.9257 - val_loss: 0.5780 - val_accuracy: 0.7970\n"
          ]
        }
      ]
    },
    {
      "cell_type": "code",
      "source": [
        "evaluated=model.evaluate(test_generator)"
      ],
      "metadata": {
        "execution": {
          "iopub.status.busy": "2023-02-25T15:51:27.228129Z",
          "iopub.execute_input": "2023-02-25T15:51:27.228507Z",
          "iopub.status.idle": "2023-02-25T15:51:29.984961Z",
          "shell.execute_reply.started": "2023-02-25T15:51:27.228469Z",
          "shell.execute_reply": "2023-02-25T15:51:29.983818Z"
        },
        "trusted": true,
        "colab": {
          "base_uri": "https://localhost:8080/"
        },
        "id": "aBQXlV82b9lW",
        "outputId": "a83cec44-86d3-47f4-bd18-5620fcb60979"
      },
      "execution_count": null,
      "outputs": [
        {
          "output_type": "stream",
          "name": "stdout",
          "text": [
            "8/8 [==============================] - 6s 671ms/step - loss: 0.5277 - accuracy: 0.8417\n"
          ]
        }
      ]
    },
    {
      "cell_type": "code",
      "source": [
        "def compare_historys(original_history, new_history, initial_epochs=5):\n",
        "    \"\"\"\n",
        "    Compares two model history objects.\n",
        "    \"\"\"\n",
        "    # Get original history measurements\n",
        "    acc = original_history.history[\"accuracy\"]\n",
        "    loss = original_history.history[\"loss\"]\n",
        "\n",
        "    print(len(acc))\n",
        "\n",
        "    val_acc = original_history.history[\"val_accuracy\"]\n",
        "    val_loss = original_history.history[\"val_loss\"]\n",
        "\n",
        "    # Combine original history with new history\n",
        "    total_acc = acc + new_history.history[\"accuracy\"]\n",
        "    total_loss = loss + new_history.history[\"loss\"]\n",
        "\n",
        "    total_val_acc = val_acc + new_history.history[\"val_accuracy\"]\n",
        "    total_val_loss = val_loss + new_history.history[\"val_loss\"]\n",
        "\n",
        "    print(len(total_acc))\n",
        "    print(total_acc)\n",
        "\n",
        "    # Make plots\n",
        "    plt.figure(figsize=(8, 8))\n",
        "    plt.subplot(2, 1, 1)\n",
        "    plt.plot(total_acc, label='Training Accuracy')\n",
        "    plt.plot(total_val_acc, label='Validation Accuracy')\n",
        "    plt.plot([initial_epochs-1, initial_epochs-1],\n",
        "              plt.ylim(), label='Start Fine Tuning') # reshift plot around epochs\n",
        "    plt.legend(loc='lower right')\n",
        "    plt.title('Training and Validation Accuracy')\n",
        "\n",
        "    plt.subplot(2, 1, 2)\n",
        "    plt.plot(total_loss, label='Training Loss')\n",
        "    plt.plot(total_val_loss, label='Validation Loss')\n",
        "    plt.plot([initial_epochs-1, initial_epochs-1],\n",
        "              plt.ylim(), label='Start Fine Tuning') # reshift plot around epochs\n",
        "    plt.legend(loc='upper right')\n",
        "    plt.title('Training and Validation Loss')\n",
        "    plt.xlabel('epoch')\n",
        "    plt.show()"
      ],
      "metadata": {
        "id": "hzLEcmfVggC2",
        "execution": {
          "iopub.status.busy": "2023-02-25T15:53:37.957661Z",
          "iopub.execute_input": "2023-02-25T15:53:37.958401Z",
          "iopub.status.idle": "2023-02-25T15:53:37.970955Z",
          "shell.execute_reply.started": "2023-02-25T15:53:37.958359Z",
          "shell.execute_reply": "2023-02-25T15:53:37.969829Z"
        },
        "trusted": true
      },
      "execution_count": null,
      "outputs": []
    },
    {
      "cell_type": "code",
      "source": [
        "compare_historys(tuned_history,history,10)"
      ],
      "metadata": {
        "execution": {
          "iopub.status.busy": "2023-02-25T15:54:25.217692Z",
          "iopub.execute_input": "2023-02-25T15:54:25.218451Z",
          "iopub.status.idle": "2023-02-25T15:54:25.554816Z",
          "shell.execute_reply.started": "2023-02-25T15:54:25.218412Z",
          "shell.execute_reply": "2023-02-25T15:54:25.553798Z"
        },
        "trusted": true,
        "colab": {
          "base_uri": "https://localhost:8080/",
          "height": 790
        },
        "id": "n81l37yYb9lW",
        "outputId": "432cf55a-9661-4feb-ca6c-3349296a09ec"
      },
      "execution_count": null,
      "outputs": [
        {
          "output_type": "stream",
          "name": "stdout",
          "text": [
            "36\n",
            "46\n",
            "[0.8513513803482056, 0.872235894203186, 0.8789926171302795, 0.8931204080581665, 0.8820638656616211, 0.8918918967247009, 0.8882063627243042, 0.9041768908500671, 0.9054054021835327, 0.9066339135169983, 0.8992629051208496, 0.8906633853912354, 0.8937346339225769, 0.9164619445800781, 0.9078624248504639, 0.8992629051208496, 0.8949631452560425, 0.9060196280479431, 0.9146191477775574, 0.8949631452560425, 0.9189189076423645, 0.9115478992462158, 0.8949631452560425, 0.915847659111023, 0.9041768908500671, 0.8992629051208496, 0.9066339135169983, 0.8968058824539185, 0.89987713098526, 0.9041768908500671, 0.915847659111023, 0.9287469387054443, 0.9103193879127502, 0.921990156173706, 0.9213759303092957, 0.9256756901741028, 0.5497543215751648, 0.726044237613678, 0.7807125449180603, 0.7923833131790161, 0.8071253299713135, 0.8353808522224426, 0.8452088236808777, 0.8550368547439575, 0.8710073828697205, 0.8771498799324036]\n"
          ]
        },
        {
          "output_type": "display_data",
          "data": {
            "text/plain": [
              "<Figure size 800x800 with 2 Axes>"
            ],
            "image/png": "[encoded data removed]"
          },
          "metadata": {}
        }
      ]
    },
    {
      "cell_type": "code",
      "source": [],
      "metadata": {
        "id": "irhnvbQ5kjlC"
      },
      "execution_count": null,
      "outputs": []
    }
  ]
}